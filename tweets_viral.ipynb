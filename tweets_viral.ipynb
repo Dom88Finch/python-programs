{
 "cells": [
  {
   "cell_type": "markdown",
   "metadata": {},
   "source": [
    "The code below shows us how we can classify tweets to whether they are viral or not.\n"
   ]
  },
  {
   "cell_type": "code",
   "execution_count": 1,
   "metadata": {},
   "outputs": [
    {
     "name": "stdout",
     "output_type": "stream",
     "text": [
      "11099\n",
      "Index(['contributors', 'coordinates', 'created_at', 'entities',\n",
      "       'extended_entities', 'favorite_count', 'favorited', 'geo', 'id',\n",
      "       'id_str', 'in_reply_to_screen_name', 'in_reply_to_status_id',\n",
      "       'in_reply_to_status_id_str', 'in_reply_to_user_id',\n",
      "       'in_reply_to_user_id_str', 'is_quote_status', 'lang', 'metadata',\n",
      "       'place', 'possibly_sensitive', 'quoted_status', 'quoted_status_id',\n",
      "       'quoted_status_id_str', 'retweet_count', 'retweeted',\n",
      "       'retweeted_status', 'source', 'text', 'truncated', 'user',\n",
      "       'withheld_in_countries'],\n",
      "      dtype='object')\n"
     ]
    }
   ],
   "source": [
    "# begin by loading all our packages for data cleaning and the data\n",
    "\n",
    "import pandas as pd\n",
    "import numpy as np\n",
    "\n",
    "# the data below has been preprocessed and column headers modified \n",
    "\n",
    "\n",
    "\n",
    "all_tweets = pd.read_json(\"random_tweets.json\",lines= True)\n",
    "\n",
    "print(len(all_tweets))\n",
    "print(all_tweets.columns)\n"
   ]
  },
  {
   "cell_type": "code",
   "execution_count": 2,
   "metadata": {},
   "outputs": [
    {
     "name": "stdout",
     "output_type": "stream",
     "text": [
      "13.0\n"
     ]
    }
   ],
   "source": [
    "all_tweets['is_viral']= np.where(all_tweets['retweet_count']> 5,1,0)\n",
    "\n",
    "med = all_tweets['retweet_count'].median()\n",
    "print (med)\n",
    "all_tweets['is_viral_median'] = np.where(all_tweets['retweet_count']>(all_tweets['retweet_count'].median()),1,0)"
   ]
  },
  {
   "cell_type": "code",
   "execution_count": 3,
   "metadata": {},
   "outputs": [],
   "source": [
    "#print(all_tweets.columns)"
   ]
  },
  {
   "cell_type": "code",
   "execution_count": 4,
   "metadata": {},
   "outputs": [
    {
     "name": "stdout",
     "output_type": "stream",
     "text": [
      "0    5562\n",
      "1    5537\n",
      "Name: is_viral_median, dtype: int64\n"
     ]
    }
   ],
   "source": [
    "print( all_tweets.is_viral_median.value_counts())"
   ]
  },
  {
   "cell_type": "code",
   "execution_count": 5,
   "metadata": {},
   "outputs": [
    {
     "name": "stdout",
     "output_type": "stream",
     "text": [
      "1    6122\n",
      "0    4977\n",
      "Name: is_viral, dtype: int64\n"
     ]
    }
   ],
   "source": [
    "print( all_tweets.is_viral.value_counts())"
   ]
  },
  {
   "cell_type": "code",
   "execution_count": 6,
   "metadata": {},
   "outputs": [],
   "source": [
    "# create a new column containing the length of a tweet\n",
    "# axis=1 creates a new column rather than row\n",
    "\n",
    "all_tweets['tweet_length']= all_tweets.apply(lambda x: len(x['text']), axis=1 )\n",
    "all_tweets['followers_count']= all_tweets.apply(lambda y: y['user']['followers_count'], axis=1)\n",
    "all_tweets['friends_count']= all_tweets.apply(lambda z: z['user']['friends_count'], axis=1)\n",
    "\n",
    "all_tweets['no_of_hashtags'] = all_tweets.apply(lambda v: v['text'].count('#'), axis=1)\n",
    "all_tweets['no_of_links'] = all_tweets.apply(lambda w: w['text'].count('http'),axis=1)\n",
    "all_tweets['nof_tweet_words']=all_tweets.apply(lambda q: len(q['text'].split()),axis=1)\n",
    "\n"
   ]
  },
  {
   "cell_type": "code",
   "execution_count": 7,
   "metadata": {},
   "outputs": [
    {
     "name": "stdout",
     "output_type": "stream",
     "text": [
      "0    140\n",
      "1     77\n",
      "2    140\n",
      "3    140\n",
      "4    140\n",
      "5    139\n",
      "6    140\n",
      "7    139\n",
      "8    140\n",
      "9    140\n",
      "Name: tweet_length, dtype: int64\n",
      "0     215\n",
      "1     199\n",
      "2     196\n",
      "3    3313\n",
      "4     125\n",
      "5     128\n",
      "6     259\n",
      "7     113\n",
      "8    1200\n",
      "9      51\n",
      "Name: followers_count, dtype: int64\n",
      "0     335\n",
      "1     203\n",
      "2     558\n",
      "3    2272\n",
      "4     273\n",
      "5     496\n",
      "6     204\n",
      "7     120\n",
      "8    2970\n",
      "9     399\n",
      "Name: friends_count, dtype: int64\n"
     ]
    }
   ],
   "source": [
    "print(all_tweets.tweet_length.head(10))\n",
    "print(all_tweets.followers_count.head(10))\n",
    "print(all_tweets.friends_count.head(10))"
   ]
  },
  {
   "cell_type": "markdown",
   "metadata": {},
   "source": [
    "We will use the `tweet_length`,`followers_count` and `friends_count` columns as our feature data."
   ]
  },
  {
   "cell_type": "code",
   "execution_count": 8,
   "metadata": {},
   "outputs": [
    {
     "name": "stdout",
     "output_type": "stream",
     "text": [
      "[ 0  1  3  2  5  4  6  7  8 10  9]\n",
      "[0 1 2 4 3]\n",
      "0    26\n",
      "1    15\n",
      "2    22\n",
      "3    24\n",
      "4    24\n",
      "5    24\n",
      "6    23\n",
      "7    23\n",
      "8    23\n",
      "9    26\n",
      "Name: nof_tweet_words, dtype: int64\n"
     ]
    }
   ],
   "source": [
    "print(all_tweets.no_of_hashtags.unique())\n",
    "print(all_tweets.no_of_links.unique())\n",
    "print(all_tweets.nof_tweet_words.head(10))"
   ]
  },
  {
   "cell_type": "code",
   "execution_count": null,
   "metadata": {},
   "outputs": [],
   "source": []
  },
  {
   "cell_type": "code",
   "execution_count": 9,
   "metadata": {},
   "outputs": [],
   "source": [
    "# Normalising data\n",
    "\n",
    "labels = all_tweets.is_viral_median\n",
    "data = all_tweets[['tweet_length','followers_count','friends_count']]"
   ]
  },
  {
   "cell_type": "code",
   "execution_count": 10,
   "metadata": {},
   "outputs": [
    {
     "name": "stderr",
     "output_type": "stream",
     "text": [
      "C:\\Users\\Dominic\\Miniconda3\\lib\\site-packages\\ipykernel_launcher.py:5: DataConversionWarning: Data with input dtype int64 were all converted to float64 by the scale function.\n",
      "  \"\"\"\n"
     ]
    }
   ],
   "source": [
    "from sklearn.preprocessing import scale\n",
    "\n",
    "# scale function normalises the data so all features will vary in the same range\n",
    "\n",
    "scaled_data = scale(data,axis=0)"
   ]
  },
  {
   "cell_type": "code",
   "execution_count": 11,
   "metadata": {},
   "outputs": [
    {
     "name": "stdout",
     "output_type": "stream",
     "text": [
      "[[ 0.6164054  -0.02878298 -0.14483305]\n",
      " [-1.64577622 -0.02886246 -0.16209787]\n",
      " [ 0.6164054  -0.02887736 -0.11566596]\n",
      " ...\n",
      " [ 0.6164054  -0.02918038 -0.1768776 ]\n",
      " [ 0.6164054  -0.02955792 -0.14679496]\n",
      " [-1.71759151 -0.02208668  0.0333085 ]]\n"
     ]
    }
   ],
   "source": [
    "print(scaled_data)"
   ]
  },
  {
   "cell_type": "code",
   "execution_count": 12,
   "metadata": {},
   "outputs": [],
   "source": [
    "from sklearn.model_selection import train_test_split"
   ]
  },
  {
   "cell_type": "code",
   "execution_count": 13,
   "metadata": {},
   "outputs": [],
   "source": [
    "#Creating the Training set and a Test set\n",
    "\n",
    "\n",
    "train_data, test_data, train_labels, test_labels = train_test_split(data,labels)\n"
   ]
  },
  {
   "cell_type": "code",
   "execution_count": 14,
   "metadata": {},
   "outputs": [],
   "source": [
    "# Using a Classifier\n",
    "from sklearn.neighbors import KNeighborsClassifier"
   ]
  },
  {
   "cell_type": "code",
   "execution_count": 15,
   "metadata": {},
   "outputs": [],
   "source": [
    "#classifier = KNeighborsClassifier(13)\n"
   ]
  },
  {
   "cell_type": "code",
   "execution_count": 16,
   "metadata": {},
   "outputs": [],
   "source": [
    "scores = []\n",
    "\n",
    "for k in range(1,200):\n",
    "    classifier = KNeighborsClassifier(n_neighbors =k)\n",
    "    classifier.fit(train_data,train_labels)\n",
    "    score = classifier.score(test_data,test_labels)\n",
    "    scores.append(score)\n",
    "\n",
    "   \n"
   ]
  },
  {
   "cell_type": "code",
   "execution_count": 17,
   "metadata": {},
   "outputs": [
    {
     "data": {
      "text/plain": [
       "<Figure size 640x480 with 1 Axes>"
      ]
     },
     "metadata": {},
     "output_type": "display_data"
    }
   ],
   "source": [
    "import matplotlib.pyplot as plt\n",
    "\n",
    "\n",
    "x = range(1,200)\n",
    "y = scores\n",
    "\n",
    "plt.plot(x,y)\n",
    "plt.xlabel('n_neighbors value')\n",
    "plt.ylabel('Scores')\n",
    "plt.title('Plot showing the best value to use for classification ')\n",
    "plt.show()"
   ]
  },
  {
   "cell_type": "code",
   "execution_count": 18,
   "metadata": {},
   "outputs": [],
   "source": [
    "#print(all_tweets.head())\n",
    "#print(all_tweets.info())"
   ]
  },
  {
   "cell_type": "code",
   "execution_count": 19,
   "metadata": {},
   "outputs": [
    {
     "name": "stderr",
     "output_type": "stream",
     "text": [
      "C:\\Users\\Dominic\\Miniconda3\\lib\\site-packages\\ipykernel_launcher.py:10: DataConversionWarning: Data with input dtype int64 were all converted to float64 by the scale function.\n",
      "  # Remove the CWD from sys.path while we load stuff.\n"
     ]
    },
    {
     "name": "stdout",
     "output_type": "stream",
     "text": [
      "(11099, 3)\n"
     ]
    }
   ],
   "source": [
    "from sklearn.preprocessing import scale\n",
    "\n",
    "data1 = all_tweets[['no_of_hashtags','no_of_links','nof_tweet_words']]\n",
    "labels1= all_tweets.is_viral_median\n",
    "#print(data1)\n",
    "                              \n",
    "from sklearn.neighbors import KNeighborsClassifier\n",
    "\n",
    "\n",
    "scaled_data1 = scale(data1, axis = 0)\n",
    "\n",
    "train_data1, test_data1, train_label1, test_label1 = train_test_split(data1, labels1)\n",
    "\n",
    "print(data1.shape)\n",
    "scores1 = []\n",
    "\n",
    "for m in range(1,200):\n",
    "    classifier1 = KNeighborsClassifier(n_neighbors = m)\n",
    "    A=classifier1.fit(train_data1,train_label1)\n",
    "    score1 = classifier1.score(test_data1,test_label1)\n",
    "    scores1.append(score1)\n",
    "\n",
    "\n"
   ]
  },
  {
   "cell_type": "code",
   "execution_count": 20,
   "metadata": {},
   "outputs": [
    {
     "name": "stderr",
     "output_type": "stream",
     "text": [
      "C:\\Users\\Dominic\\Miniconda3\\lib\\site-packages\\ipykernel_launcher.py:5: DataConversionWarning: Data with input dtype int64 were all converted to float64 by the scale function.\n",
      "  \"\"\"\n"
     ]
    },
    {
     "name": "stdout",
     "output_type": "stream",
     "text": [
      "(11099, 6)\n"
     ]
    }
   ],
   "source": [
    "\n",
    "\n",
    "\n",
    "data2= pd.concat([data, data1], axis=1)\n",
    "scaled_data2 = scale(data2, axis = 0)\n",
    "\n",
    "train_data2, test_data2, train_label2, test_label2 = train_test_split(data2,labels1)\n",
    "print(data2.shape)\n",
    "scores2 = []\n",
    "for m in range(1,200):\n",
    "    classifier2 = KNeighborsClassifier(n_neighbors = m)\n",
    "    A=classifier2.fit(train_data2,train_label2)\n",
    "    score2 = classifier2.score(test_data2,test_label2)\n",
    "    scores2.append(score2)\n"
   ]
  },
  {
   "cell_type": "code",
   "execution_count": 23,
   "metadata": {},
   "outputs": [
    {
     "data": {
      "image/png": "[encoded data removed]",
      "text/plain": [
       "<Figure size 432x288 with 1 Axes>"
      ]
     },
     "metadata": {
      "needs_background": "light"
     },
     "output_type": "display_data"
    }
   ],
   "source": [
    "\n",
    "\n",
    "\n",
    "\n",
    "\n",
    "y1= scores1\n",
    "\n",
    "y2 = scores2 \n",
    "\n",
    "\n",
    "    \n",
    "plt.plot(x,y,'r', label=\"data\")\n",
    "plt.plot(x,y1,'b', label=\"data1\")\n",
    "plt.plot(x, y2, label='both sets of data')\n",
    "plt.xlabel('n_neighbors value')\n",
    "plt.ylabel('Scores')\n",
    "plt.title('Comparison of different sets of data ')\n",
    "plt.legend()\n",
    "plt.show()\n",
    "\n",
    "\n",
    "\n",
    "\n",
    "\n",
    "\n",
    "# convert the data1 into floats then try again \n"
   ]
  },
  {
   "cell_type": "markdown",
   "metadata": {},
   "source": [
    "From the graph above, we can clearly see that  `data1` feature date gives us higher score than other datasets combined.\n",
    "\n",
    "This could be explored further to see whether we can optimise the score value by picking different combinations from bothe sets of data. i.e. pick the best 3 features out of the 6 thag will give us the highest score value.\n",
    "\n",
    "This could be achieved by creating a list with the different combination list and using a loop runs through the column for the list. The results will be saved onto a dataframe with column names such as `comb(1,2,4)` that corresponds to the different columns. from here you can simply return the higest score value for each column.\n",
    "the columns can then be sorted be highest value on the first row.\n",
    "Alternatively the columns can be plotted however this will be time consuming.\n"
   ]
  },
  {
   "cell_type": "code",
   "execution_count": 25,
   "metadata": {},
   "outputs": [],
   "source": [
    "#data1=data1.reshape(-1,1)\n",
    "\n",
    "#classifier.predict([88,2000,300])"
   ]
  },
  {
   "cell_type": "code",
   "execution_count": null,
   "metadata": {},
   "outputs": [],
   "source": [
    "print(data1.head())"
   ]
  },
  {
   "cell_type": "code",
   "execution_count": null,
   "metadata": {},
   "outputs": [],
   "source": [
    "\n",
    "\n",
    "\n",
    "\n",
    "# find a way to optimise/overfit the model to find the best 3/6 features that give the highest score(parralel programming)"
   ]
  },
  {
   "cell_type": "markdown",
   "metadata": {},
   "source": [
    "#### We will now see whether we can improve on this result by using a `DecisionTreeClassifier`\n"
   ]
  },
  {
   "cell_type": "code",
   "execution_count": null,
   "metadata": {},
   "outputs": [],
   "source": [
    "# begin by importing the classifier\n",
    "from sklearn.tree import DecisionTreeClassifier\n",
    "train_data_4, test_data_4, train_labels_4, test_labels_4, =train_test_split(data,labels,random_state =1)\n",
    "\n",
    "scores_4 = []\n",
    "for i in range(1,21):\n",
    "    tree = DecisionTreeClassifier(random_state=1,max_depth=i)\n",
    "    fitting_test=tree.fit(train_data_4,train_labels_4)\n",
    "    score_4=tree.score(test_data_4,test_labels_4)\n",
    "    scores_4.append(score_4)\n",
    "\n",
    "plt.plot(range(1,21), scores_4)\n",
    "plt.show()\n",
    "    \n",
    "\n",
    "\n"
   ]
  },
  {
   "cell_type": "code",
   "execution_count": null,
   "metadata": {},
   "outputs": [],
   "source": [
    "# we then run a Support vector Classifier "
   ]
  },
  {
   "cell_type": "code",
   "execution_count": null,
   "metadata": {},
   "outputs": [],
   "source": [
    "from sklearn.svm import SVC"
   ]
  },
  {
   "cell_type": "code",
   "execution_count": null,
   "metadata": {},
   "outputs": [],
   "source": [
    "train_data_5, test_data_5, train_labels_5, test_labels_5 = train_test_split(data,labels, train_size = 0.8, test_size = 0.2, random_state = 100)\n",
    "\n",
    "SVC_classifier = SVC(kernel = \"linear\", random_state = 1)\n",
    "SVC_classifier.fit(train_data_5, train_labels_5)\n",
    "\n",
    "\n",
    "score_SVC=SVC_classifier.score(test_data_5, test_labels_5)\n",
    "\n",
    "print(score_SVC)"
   ]
  },
  {
   "cell_type": "code",
   "execution_count": null,
   "metadata": {},
   "outputs": [],
   "source": []
  }
 ],
 "metadata": {
  "kernelspec": {
   "display_name": "Python 3",
   "language": "python",
   "name": "python3"
  },
  "language_info": {
   "codemirror_mode": {
    "name": "ipython",
    "version": 3
   },
   "file_extension": ".py",
   "mimetype": "text/x-python",
   "name": "python",
   "nbconvert_exporter": "python",
   "pygments_lexer": "ipython3",
   "version": "3.7.1"
  }
 },
 "nbformat": 4,
 "nbformat_minor": 4
}
